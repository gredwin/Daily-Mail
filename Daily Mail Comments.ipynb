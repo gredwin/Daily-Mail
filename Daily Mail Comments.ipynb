{
 "cells": [
  {
   "cell_type": "code",
   "execution_count": 14,
   "metadata": {
    "collapsed": false
   },
   "outputs": [
    {
     "name": "stdout",
     "output_type": "stream",
     "text": [
      "Enter Full Daily Mail Article URL: http://www.dailymail.co.uk/news/article-4187460/Lovre-evacuated-Paris.html\n"
     ]
    }
   ],
   "source": [
    "import json\n",
    "from pprint import pprint\n",
    "import csv\n",
    "import urllib\n",
    "import os\n",
    "import re\n",
    "import sys \n",
    "import requests\n",
    "reload(sys)\n",
    "sys.setdefaultencoding('UTF-8')\n",
    "\n",
    "commSite = 'http://www.dailymail.co.uk/reader-comments/p/asset/readcomments/'\n",
    "start = '?max=100&offset='\n",
    "end ='&order=desc&rcCache=shout'\n",
    "headers = 'id', 'dateCreated', 'message', 'assetId', 'assetUrl','assetCommentCount', 'userAlias','userLocation','assetHeadline',   'userIdentifier', 'voteRating', 'voteCount', 'hasProfilePicture'\n",
    "headersReq = {\n",
    "    'Host': 'www.dailymail.co.uk',\n",
    "    'Connection': 'keep-alive',\n",
    "    'Cache-Control': 'max-age=0',\n",
    "    'Upgrade-Insecure-Requests': '1',\n",
    "    'User-Agent': 'Mozilla/5.0 (Windows NT 10.0; WOW64) AppleWebKit/537.36 (KHTML, like Gecko) Chrome/55.0.2883.87 Safari/537.36',\n",
    "    'Accept': 'text/html,application/xhtml+xml,application/xml;q=0.9,image/webp,*/*;q=0.8',\n",
    "    'Accept-Encoding': 'gzip, deflate, sdch',\n",
    "    'Accept-Language': 'en-US,en;q=0.8',\n",
    "}\n",
    "\n",
    "URL = raw_input('Enter Full Daily Mail Article URL: ')\n",
    "#URL = 'http://www.dailymail.co.uk/news/article-4187460/Lovre-evacuated-Paris.html'\n",
    "article = re.search('\\/article-(\\d+)\\/',URL).group(1)\n",
    "\n",
    "outfile  = open(article+'.csv', \"wb\")\n",
    "writer = csv.writer(outfile, delimiter=',', quotechar='\"', quoting=csv.QUOTE_ALL)\n",
    "writer.writerow(headers)\n",
    "\n",
    "reqURL = commSite + article\n",
    "req = requests.get (reqURL, headers = headersReq)\n",
    "html_source = req.text\n",
    "\n",
    "numOfComments = re.findall ('{\"total\":(\\d+)',html_source)\n",
    "nums = int(numOfComments[0])\n",
    "\n",
    "#Get comments\n",
    "for i in range (0, nums,100): \n",
    "    comment = []\n",
    "    req = requests.get (reqURL + start + str(i) + end, headers = headersReq)\n",
    "    data = json.loads(req.text)\n",
    "    for i in range(len(data['payload']['page'])):\n",
    "        for header in headers:\n",
    "            comment.append(data['payload']['page'][i].get(header,'N\\\\A'))\n",
    "            print '\\n'*3\n",
    "        writer.writerow(comment)\n",
    "        print data['payload']['page'][i]['message'].encode(\"UTF-8\")\n",
    "        print data['payload']['page'][i]['voteRating']\n",
    "        comment = []\n",
    "        \n",
    "outfile.close()\n",
    "      \n",
    "req.connection.close()\n",
    "\n",
    "print 'Done!'"
   ]
  },
  {
   "cell_type": "code",
   "execution_count": null,
   "metadata": {
    "collapsed": true
   },
   "outputs": [],
   "source": []
  }
 ],
 "metadata": {
  "anaconda-cloud": {},
  "kernelspec": {
   "display_name": "Python [default]",
   "language": "python",
   "name": "python2"
  },
  "language_info": {
   "codemirror_mode": {
    "name": "ipython",
    "version": 2
   },
   "file_extension": ".py",
   "mimetype": "text/x-python",
   "name": "python",
   "nbconvert_exporter": "python",
   "pygments_lexer": "ipython2",
   "version": "2.7.12"
  }
 },
 "nbformat": 4,
 "nbformat_minor": 1
}
